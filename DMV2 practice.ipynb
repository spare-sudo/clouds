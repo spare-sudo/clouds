{
 "cells": [
  {
   "cell_type": "code",
   "execution_count": 1,
   "id": "573dd286-7a09-459c-89c6-4ea8ec7cbbc1",
   "metadata": {},
   "outputs": [],
   "source": [
    "import requests"
   ]
  },
  {
   "cell_type": "code",
   "execution_count": 2,
   "id": "978705e1-4987-4974-aa9b-680fe0ba2800",
   "metadata": {},
   "outputs": [],
   "source": [
    "import json"
   ]
  },
  {
   "cell_type": "code",
   "execution_count": 3,
   "id": "dfd2a2d5-e405-4950-89a2-460aa4eb95c4",
   "metadata": {},
   "outputs": [],
   "source": [
    "import random"
   ]
  },
  {
   "cell_type": "code",
   "execution_count": 4,
   "id": "f260a29c-d82b-4320-8a27-1ffa5ec929a8",
   "metadata": {},
   "outputs": [],
   "source": [
    "import re"
   ]
  },
  {
   "cell_type": "code",
   "execution_count": 5,
   "id": "70082df3-3400-4386-a8b1-f64fb66d6d4c",
   "metadata": {},
   "outputs": [],
   "source": [
    "key = 'd443d2d31a9bdd6af0e1e070842504a2'"
   ]
  },
  {
   "cell_type": "code",
   "execution_count": 6,
   "id": "fc18bebc-1a88-4958-9d91-b87b9f61fc25",
   "metadata": {},
   "outputs": [],
   "source": [
    "lat = 18\n",
    "lon=83"
   ]
  },
  {
   "cell_type": "code",
   "execution_count": 7,
   "id": "26b28e89-2d49-4fe2-aded-4660a037df70",
   "metadata": {},
   "outputs": [],
   "source": [
    "url = f\"https://api.openweathermap.org/data/2.5/forecast?lat={lat}&lon={lon}&appid={key}\""
   ]
  },
  {
   "cell_type": "code",
   "execution_count": 8,
   "id": "decc30c5-685f-4e2a-8ac0-2c79d5a2299e",
   "metadata": {},
   "outputs": [
    {
     "data": {
      "text/plain": [
       "dict_keys(['cod', 'message', 'cnt', 'list', 'city'])"
      ]
     },
     "execution_count": 8,
     "metadata": {},
     "output_type": "execute_result"
    }
   ],
   "source": [
    "response  = requests.get(url)\n",
    "weather_data = response.json()\n",
    "weather_data.keys()"
   ]
  },
  {
   "cell_type": "code",
   "execution_count": 9,
   "id": "e27b148b-be49-4b6b-ab17-039d8fb05cf3",
   "metadata": {},
   "outputs": [
    {
     "data": {
      "text/plain": [
       "{'dt': 1731283200,\n",
       " 'main': {'temp': 297.85,\n",
       "  'feels_like': 298.23,\n",
       "  'temp_min': 294.24,\n",
       "  'temp_max': 297.85,\n",
       "  'pressure': 1012,\n",
       "  'sea_level': 1012,\n",
       "  'grnd_level': 982,\n",
       "  'humidity': 71,\n",
       "  'temp_kf': 3.61},\n",
       " 'weather': [{'id': 804,\n",
       "   'main': 'Clouds',\n",
       "   'description': 'overcast clouds',\n",
       "   'icon': '04n'}],\n",
       " 'clouds': {'all': 100},\n",
       " 'wind': {'speed': 1.73, 'deg': 344, 'gust': 1.45},\n",
       " 'visibility': 10000,\n",
       " 'pop': 0,\n",
       " 'sys': {'pod': 'n'},\n",
       " 'dt_txt': '2024-11-11 00:00:00'}"
      ]
     },
     "execution_count": 9,
     "metadata": {},
     "output_type": "execute_result"
    }
   ],
   "source": [
    "weather_data['list'][0]"
   ]
  },
  {
   "cell_type": "code",
   "execution_count": 16,
   "id": "90717062-fe19-4eda-82a3-54704e10c26b",
   "metadata": {},
   "outputs": [],
   "source": [
    "import pandas as pd"
   ]
  },
  {
   "cell_type": "code",
   "execution_count": 10,
   "id": "f4cd0c40-15b8-41f1-ac63-8ab2db6be0a0",
   "metadata": {},
   "outputs": [],
   "source": [
    "temperature = [item['main']['temp'] for item in weather_data['list']]"
   ]
  },
  {
   "cell_type": "code",
   "execution_count": 11,
   "id": "3070c376-a666-48ed-8e99-fa6853e6e1fd",
   "metadata": {},
   "outputs": [],
   "source": [
    "humidity = [item['main']['humidity'] for item in weather_data['list']]"
   ]
  },
  {
   "cell_type": "code",
   "execution_count": 14,
   "id": "43fbee6c-bc24-4b72-9778-035609b2401f",
   "metadata": {},
   "outputs": [],
   "source": [
    "wind_speed = [item['wind']['speed'] for item in weather_data['list']]"
   ]
  },
  {
   "cell_type": "code",
   "execution_count": 22,
   "id": "bbbc009e-bcae-4c3c-b536-e5f04d8569f8",
   "metadata": {},
   "outputs": [],
   "source": [
    "timestamp = [pd.to_datetime(item['dt'],unit='s') for item in weather_data['list']]"
   ]
  },
  {
   "cell_type": "code",
   "execution_count": 26,
   "id": "1a9b5e2f-ffbb-4b3b-bb43-9dcb869b68f6",
   "metadata": {},
   "outputs": [],
   "source": [
    "df = pd.DataFrame({\n",
    "    'timestamp' : [pd.to_datetime(item['dt'],unit='s') for item in weather_data['list']],\n",
    "    'temperature' : [item['main']['temp'] for item in weather_data['list']],\n",
    "    'humidity' : [item['main']['humidity'] for item in weather_data['list']],\n",
    "    'wind_speed' : [item['wind']['speed'] for item in weather_data['list']]\n",
    "    \n",
    "})"
   ]
  },
  {
   "cell_type": "code",
   "execution_count": 27,
   "id": "f0edfe95-fea2-4ae0-b8d8-ce3a414663ae",
   "metadata": {},
   "outputs": [
    {
     "data": {
      "text/plain": [
       "timestamp      0\n",
       "temperature    0\n",
       "humidity       0\n",
       "wind_speed     0\n",
       "dtype: int64"
      ]
     },
     "execution_count": 27,
     "metadata": {},
     "output_type": "execute_result"
    }
   ],
   "source": [
    "df.isnull().sum()"
   ]
  },
  {
   "cell_type": "code",
   "execution_count": 28,
   "id": "7c2447f6-67ef-4f79-9099-e54fcd056be7",
   "metadata": {},
   "outputs": [
    {
     "data": {
      "text/html": [
       "<div>\n",
       "<style scoped>\n",
       "    .dataframe tbody tr th:only-of-type {\n",
       "        vertical-align: middle;\n",
       "    }\n",
       "\n",
       "    .dataframe tbody tr th {\n",
       "        vertical-align: top;\n",
       "    }\n",
       "\n",
       "    .dataframe thead th {\n",
       "        text-align: right;\n",
       "    }\n",
       "</style>\n",
       "<table border=\"1\" class=\"dataframe\">\n",
       "  <thead>\n",
       "    <tr style=\"text-align: right;\">\n",
       "      <th></th>\n",
       "      <th>timestamp</th>\n",
       "      <th>temperature</th>\n",
       "      <th>humidity</th>\n",
       "      <th>wind_speed</th>\n",
       "    </tr>\n",
       "  </thead>\n",
       "  <tbody>\n",
       "    <tr>\n",
       "      <th>0</th>\n",
       "      <td>2024-11-11 00:00:00</td>\n",
       "      <td>297.85</td>\n",
       "      <td>71</td>\n",
       "      <td>1.73</td>\n",
       "    </tr>\n",
       "    <tr>\n",
       "      <th>1</th>\n",
       "      <td>2024-11-11 03:00:00</td>\n",
       "      <td>299.56</td>\n",
       "      <td>61</td>\n",
       "      <td>1.21</td>\n",
       "    </tr>\n",
       "    <tr>\n",
       "      <th>2</th>\n",
       "      <td>2024-11-11 06:00:00</td>\n",
       "      <td>303.65</td>\n",
       "      <td>40</td>\n",
       "      <td>3.15</td>\n",
       "    </tr>\n",
       "    <tr>\n",
       "      <th>3</th>\n",
       "      <td>2024-11-11 09:00:00</td>\n",
       "      <td>303.38</td>\n",
       "      <td>44</td>\n",
       "      <td>3.98</td>\n",
       "    </tr>\n",
       "    <tr>\n",
       "      <th>4</th>\n",
       "      <td>2024-11-11 12:00:00</td>\n",
       "      <td>298.55</td>\n",
       "      <td>64</td>\n",
       "      <td>1.79</td>\n",
       "    </tr>\n",
       "  </tbody>\n",
       "</table>\n",
       "</div>"
      ],
      "text/plain": [
       "            timestamp  temperature  humidity  wind_speed\n",
       "0 2024-11-11 00:00:00       297.85        71        1.73\n",
       "1 2024-11-11 03:00:00       299.56        61        1.21\n",
       "2 2024-11-11 06:00:00       303.65        40        3.15\n",
       "3 2024-11-11 09:00:00       303.38        44        3.98\n",
       "4 2024-11-11 12:00:00       298.55        64        1.79"
      ]
     },
     "execution_count": 28,
     "metadata": {},
     "output_type": "execute_result"
    }
   ],
   "source": [
    "df.head()"
   ]
  },
  {
   "cell_type": "code",
   "execution_count": 30,
   "id": "b2d476c0-c252-40d7-83b8-bb4909c84547",
   "metadata": {},
   "outputs": [],
   "source": [
    "df = df.set_index('timestamp')"
   ]
  },
  {
   "cell_type": "code",
   "execution_count": 31,
   "id": "4a5d0590-0f5c-45b4-ba30-278e1a088cd2",
   "metadata": {},
   "outputs": [],
   "source": [
    "daily_mean_temp = df['temperature'].resample('D').mean()"
   ]
  },
  {
   "cell_type": "code",
   "execution_count": 32,
   "id": "76a19297-c557-4b66-bc8d-1593c9a5b67a",
   "metadata": {},
   "outputs": [
    {
     "data": {
      "text/plain": [
       "timestamp\n",
       "2024-11-11    299.05375\n",
       "2024-11-12    298.98875\n",
       "2024-11-13    298.91625\n",
       "2024-11-14    298.88750\n",
       "2024-11-15    298.87000\n",
       "Freq: D, Name: temperature, dtype: float64"
      ]
     },
     "execution_count": 32,
     "metadata": {},
     "output_type": "execute_result"
    }
   ],
   "source": [
    "daily_mean_temp "
   ]
  },
  {
   "cell_type": "code",
   "execution_count": 33,
   "id": "0f29a80f-a0d1-4383-ab04-5c2709b7ff66",
   "metadata": {},
   "outputs": [],
   "source": [
    "import matplotlib.pyplot as plt"
   ]
  },
  {
   "cell_type": "code",
   "execution_count": 36,
   "id": "eb17d8f6-834c-4b12-a8ef-bc92c0d0f3d0",
   "metadata": {},
   "outputs": [
    {
     "data": {
      "text/plain": [
       "<AxesSubplot: xlabel='timestamp'>"
      ]
     },
     "execution_count": 36,
     "metadata": {},
     "output_type": "execute_result"
    },
    {
     "data": {
      "image/png": "[encoded data removed]",
      "text/plain": [
       "<Figure size 640x480 with 1 Axes>"
      ]
     },
     "metadata": {},
     "output_type": "display_data"
    }
   ],
   "source": [
    "daily_mean_temp.plot(marker='o')"
   ]
  },
  {
   "cell_type": "code",
   "execution_count": 38,
   "id": "33257f41-f68b-4abd-a433-8f96c9da0a47",
   "metadata": {},
   "outputs": [],
   "source": [
    "import folium"
   ]
  },
  {
   "cell_type": "code",
   "execution_count": 39,
   "id": "6a7d91e9-94d6-4c5e-9f28-aaa69a8c1ad6",
   "metadata": {},
   "outputs": [],
   "source": [
    "geo = folium.Map([18,83])"
   ]
  },
  {
   "cell_type": "code",
   "execution_count": 41,
   "id": "1a2b1e1e-8865-46dc-a88d-27434564a725",
   "metadata": {},
   "outputs": [
    {
     "data": {
      "text/plain": [
       "<folium.map.Marker at 0x1430c405c40>"
      ]
     },
     "execution_count": 41,
     "metadata": {},
     "output_type": "execute_result"
    }
   ],
   "source": [
    "folium.Marker([18,83],popup='Pune').add_to(geo)"
   ]
  },
  {
   "cell_type": "code",
   "execution_count": 43,
   "id": "c5f55a3a-02a1-4574-98b8-6310b6045138",
   "metadata": {},
   "outputs": [],
   "source": [
    "geo.save('practice.html')"
   ]
  },
  {
   "cell_type": "code",
   "execution_count": 44,
   "id": "e60c46ad-5743-4253-ac69-f502dde6d956",
   "metadata": {},
   "outputs": [],
   "source": [
    "correlation = df[['temperature','humidity','wind_speed']].corr()"
   ]
  },
  {
   "cell_type": "code",
   "execution_count": 46,
   "id": "4eeb491a-475d-44cd-b2d4-c4c6b53ef7de",
   "metadata": {},
   "outputs": [
    {
     "name": "stderr",
     "output_type": "stream",
     "text": [
      "C:\\Users\\lenovo\\AppData\\Local\\Programs\\Python\\Python39\\lib\\site-packages\\scipy\\__init__.py:177: UserWarning: A NumPy version >=1.18.5 and <1.26.0 is required for this version of SciPy (detected version 1.26.4\n",
      "  warnings.warn(f\"A NumPy version >={np_minversion} and <{np_maxversion}\"\n"
     ]
    }
   ],
   "source": [
    "import seaborn as sns"
   ]
  },
  {
   "cell_type": "code",
   "execution_count": 47,
   "id": "c483c9e3-e5f2-4a43-b6ea-91894dc0876f",
   "metadata": {},
   "outputs": [
    {
     "data": {
      "image/png": "[encoded data removed]",
      "text/plain": [
       "<Figure size 640x480 with 2 Axes>"
      ]
     },
     "metadata": {},
     "output_type": "display_data"
    }
   ],
   "source": [
    "sns.heatmap(correlation, annot=True, cmap='coolwarm')\n",
    "plt.title('Weather Attributes Correlation')\n",
    "plt.show()"
   ]
  },
  {
   "cell_type": "code",
   "execution_count": null,
   "id": "01f8744e-88fe-46fd-ac57-7c9e1f2293bc",
   "metadata": {},
   "outputs": [],
   "source": []
  }
 ],
 "metadata": {
  "kernelspec": {
   "display_name": "Python 3 (ipykernel)",
   "language": "python",
   "name": "python3"
  },
  "language_info": {
   "codemirror_mode": {
    "name": "ipython",
    "version": 3
   },
   "file_extension": ".py",
   "mimetype": "text/x-python",
   "name": "python",
   "nbconvert_exporter": "python",
   "pygments_lexer": "ipython3",
   "version": "3.9.13"
  }
 },
 "nbformat": 4,
 "nbformat_minor": 5
}
